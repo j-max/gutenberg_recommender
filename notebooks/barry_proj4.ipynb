{
 "cells": [
  {
   "cell_type": "code",
   "execution_count": 1,
   "metadata": {},
   "outputs": [],
   "source": [
    "import pandas as pd\n",
    "import numpy as np\n",
    "import re\n",
    "import pickle\n",
    "import time\n",
    "from pymongo import MongoClient\n",
    "\n",
    "%load_ext autoreload\n",
    "%autoreload 2\n",
    "\n",
    "# %aimport spacy_lemmer\n",
    "\n",
    "import sys\n",
    "sys.path.insert(0, '../src/features/')\n",
    "sys.path.insert(0, '../src/data/')\n",
    "sys.path.insert(0, '../src/models/')\n",
    "sys.path.insert(0, '../data/processed/')\n",
    "sys.path.insert(0, '../src/visualization/flask_app/')\n",
    "import spacy_lemmer\n",
    "from clean_book import book_cleaner\n",
    "from book_to_mongo import insert_one_book_to_mongo"
   ]
  },
  {
   "cell_type": "code",
   "execution_count": 2,
   "metadata": {},
   "outputs": [],
   "source": [
    "client=MongoClient()\n",
    "db = client['proj_4_gutenberg']\n",
    "collection = db['gutenberg_books']"
   ]
  },
  {
   "cell_type": "markdown",
   "metadata": {},
   "source": [
    "Select a book from Project Gutenberg, and insert it into the Mongo DB via its id."
   ]
  },
  {
   "cell_type": "code",
   "execution_count": 3,
   "metadata": {},
   "outputs": [],
   "source": [
    "# insert_one_book_to_mongo(32024)"
   ]
  },
  {
   "cell_type": "markdown",
   "metadata": {},
   "source": [
    "## Update lemma pickle"
   ]
  },
  {
   "cell_type": "markdown",
   "metadata": {},
   "source": [
    "Update entire lemmatize pickle file.  This takes a while. It is commented out so as not to run it everytime. "
   ]
  },
  {
   "cell_type": "code",
   "execution_count": 4,
   "metadata": {},
   "outputs": [],
   "source": [
    "# from lem_all_books import update_lemma_pickle\n",
    "# update_lemma_pickle()"
   ]
  },
  {
   "cell_type": "code",
   "execution_count": 5,
   "metadata": {},
   "outputs": [],
   "source": [
    "with open('../data/processed/spacy_lemmed_new_500000.pickle', \"rb\") as read_file:\n",
    "    lemmed_text = pickle.load(read_file)"
   ]
  },
  {
   "cell_type": "code",
   "execution_count": 6,
   "metadata": {},
   "outputs": [],
   "source": [
    "def dict_with_lemmed_texts():\n",
    "    with open('/Users/mbarry/Documents/Coding/ds/metis/projects/gutenberg_recommender/src/visualization/flask_app/dict_with_lems.pk', 'rb') as read_file:\n",
    "        pickle_dict = pickle.load(read_file)"
   ]
  },
  {
   "cell_type": "code",
   "execution_count": 7,
   "metadata": {},
   "outputs": [
    {
     "name": "stdout",
     "output_type": "stream",
     "text": [
      "\u001b[34m__pycache__\u001b[m\u001b[m            get_dict_with_lems.py  \u001b[34mstatic\u001b[m\u001b[m\r\n",
      "book_titles.pk         get_dict_with_lems.py~ \u001b[34mtemplates\u001b[m\u001b[m\r\n",
      "dict_with_lems.pk      main.py\r\n",
      "dict_with_urls.pk      recom.py\r\n"
     ]
    }
   ],
   "source": [
    "!ls ../src/visualization/flask_app/"
   ]
  },
  {
   "cell_type": "markdown",
   "metadata": {},
   "source": [
    "## Update Flask dictionary with lems"
   ]
  },
  {
   "cell_type": "markdown",
   "metadata": {},
   "source": [
    "To update the dictionary where the flask app reads the "
   ]
  },
  {
   "cell_type": "code",
   "execution_count": 29,
   "metadata": {},
   "outputs": [],
   "source": [
    "from get_dict_with_lems import update_lem_dict"
   ]
  },
  {
   "cell_type": "code",
   "execution_count": 30,
   "metadata": {},
   "outputs": [],
   "source": [
    "update_lem_dict()"
   ]
  },
  {
   "cell_type": "markdown",
   "metadata": {},
   "source": [
    "## Update flask app url pickle"
   ]
  },
  {
   "cell_type": "markdown",
   "metadata": {},
   "source": [
    "To update the flask app with a complete list of urls, run the update_lem_dict module below."
   ]
  },
  {
   "cell_type": "code",
   "execution_count": 31,
   "metadata": {},
   "outputs": [],
   "source": [
    "from book_info_for_vars import update_url_pickle"
   ]
  },
  {
   "cell_type": "code",
   "execution_count": 32,
   "metadata": {},
   "outputs": [],
   "source": [
    "update_url_pickle()"
   ]
  },
  {
   "cell_type": "markdown",
   "metadata": {},
   "source": [
    "## update book titles"
   ]
  },
  {
   "cell_type": "code",
   "execution_count": 33,
   "metadata": {},
   "outputs": [],
   "source": [
    "from book_info_for_vars import update_title_pickle"
   ]
  },
  {
   "cell_type": "code",
   "execution_count": 34,
   "metadata": {},
   "outputs": [],
   "source": [
    "update_title_pickle()"
   ]
  },
  {
   "cell_type": "code",
   "execution_count": 14,
   "metadata": {},
   "outputs": [],
   "source": [
    "\n",
    "with open('/Users/mbarry/Documents/Coding/ds/metis/projects/gutenberg_recommender/src/visualization/flask_app/book_titles.pk', 'rb') as read_file:\n",
    "    titles = pickle.load(read_file)\n",
    "        "
   ]
  },
  {
   "cell_type": "code",
   "execution_count": 28,
   "metadata": {},
   "outputs": [
    {
     "data": {
      "text/plain": [
       "[{'_id': '1342', 'title': 'Pride and Prejudice'},\n",
       " {'_id': '84', 'title': 'Frankenstein'},\n",
       " {'_id': '219', 'title': 'Heart of Darkness'},\n",
       " {'_id': '1080', 'title': 'A Modest Proposal'},\n",
       " {'_id': '98', 'title': 'A Tale of Two Cities'},\n",
       " {'_id': '15399', 'title': 'The Importance of Being Earnest'},\n",
       " {'_id': '76', 'title': \"Alice's Adventures in Wonderland\"},\n",
       " {'_id': '2148', 'title': 'Moby Dick; or The Whale'},\n",
       " {'_id': '58915', 'title': 'Voyage to Jupiter'},\n",
       " {'_id': '160', 'title': 'The Adventures of Sherlock Holmes'},\n",
       " {'_id': '2097', 'title': 'The Souls of Black Folk'},\n",
       " {'_id': '5200', 'title': 'Metamorphosis'},\n",
       " {'_id': '1952', 'title': 'The Yellow Wallpaper'},\n",
       " {'_id': '58912', 'title': 'The Earth Quarter'},\n",
       " {'_id': '2600', 'title': 'War and Peace'},\n",
       " {'_id': '2591', 'title': \"Grimms' Fairy Tales\"},\n",
       " {'_id': '345', 'title': 'Dracula'},\n",
       " {'_id': '1260', 'title': 'Jane Eyre'},\n",
       " {'_id': '174', 'title': 'The Picture of Dorian Gray'},\n",
       " {'_id': '8800', 'title': 'Walden, and On The Duty Of Civil Disobedience'},\n",
       " {'_id': '100', 'title': 'The Count of Monte Cristo'},\n",
       " {'_id': '1322', 'title': 'Leaves of Grass'},\n",
       " {'_id': '58911', 'title': 'Autographs for Freedom'},\n",
       " {'_id': '1400', 'title': 'Great Expectations'},\n",
       " {'_id': '16', 'title': 'Peter Pan'},\n",
       " {'_id': '2814', 'title': 'Dubliners'},\n",
       " {'_id': '851', 'title': 'The Narrative of the Life of Frederick Douglass'},\n",
       " {'_id': '3825', 'title': 'Pygmalion'},\n",
       " {'_id': '1497', 'title': 'The Romance of Lust'},\n",
       " {'_id': '4300', 'title': 'Ulysses'},\n",
       " {'_id': '2500', 'title': 'Siddhartha'},\n",
       " {'_id': '46', 'title': 'A Christmas Carol'},\n",
       " {'_id': '120', 'title': 'Treasure Island'},\n",
       " {'_id': '3207', 'title': 'Leviathan'},\n",
       " {'_id': '58913', 'title': 'Legendary Tales of the Highlands (Volume 1 of 3)'},\n",
       " {'_id': '768', 'title': 'Wuthering Heights'},\n",
       " {'_id': '3600', 'title': 'The Essays of Montaigne, Complete'},\n",
       " {'_id': '135', 'title': 'Les Misérables'},\n",
       " {'_id': '1934', 'title': 'Songs of Innocence and Songs of Experience'},\n",
       " {'_id': '244', 'title': 'A Study In Scarlet'},\n",
       " {'_id': '34901', 'title': 'On Liberty'},\n",
       " {'_id': '203', 'title': \"Uncle Tom's Cabin\"},\n",
       " {'_id': '45502', 'title': 'How the Other Half Lives'},\n",
       " {'_id': '140', 'title': 'The Jungle'},\n",
       " {'_id': '28054', 'title': 'The Brothers Karamazov'},\n",
       " {'_id': '2680', 'title': 'Meditations'},\n",
       " {'_id': '58900', 'title': 'Where Animals Talk'},\n",
       " {'_id': '161', 'title': 'Sense and Sensibility'},\n",
       " {'_id': '786', 'title': 'Hard Times'},\n",
       " {'_id': '20203', 'title': 'Autobiography of Benjamin Franklin'},\n",
       " {'_id': '19942', 'title': 'Candide'},\n",
       " {'_id': '41', 'title': 'The Life and Adventures of Robinson Crusoe'},\n",
       " {'_id': '7370', 'title': 'Second Treatise of Government'},\n",
       " {'_id': '4363', 'title': 'Beyond Good and Evil'},\n",
       " {'_id': '209', 'title': 'The Time Machine'},\n",
       " {'_id': '121', 'title': 'Northanger Abbey'},\n",
       " {'_id': '30360', 'title': 'My Secret Life, Volumes I. to III.'},\n",
       " {'_id': '514', 'title': 'Little Women'},\n",
       " {'_id': '58909', 'title': 'The Hound of the Baskervilles'},\n",
       " {'_id': '375', 'title': 'An Occurrence at Owl Creek'},\n",
       " {'_id': '730', 'title': 'Oliver Twist'},\n",
       " {'_id': '1250', 'title': 'Anthem'},\n",
       " {'_id': '829', 'title': \"Gulliver's Travels\"},\n",
       " {'_id': '58899', 'title': 'Journey Work'},\n",
       " {'_id': '141', 'title': 'Mansfield Park'},\n",
       " {'_id': '45', 'title': 'Anne of Green Gables'},\n",
       " {'_id': '27827', 'title': 'The Kama Sutra of Vatsyayana'},\n",
       " {'_id': '158', 'title': 'Emma'},\n",
       " {'_id': '12', 'title': 'Through the Looking-Glass'},\n",
       " {'_id': '103', 'title': 'Around the World in 80 Days'},\n",
       " {'_id': '74', 'title': 'The Adventures of Tom Sawyer, Complete'},\n",
       " {'_id': '25344', 'title': 'The Scarlet Letter'},\n",
       " {'_id': '32579', 'title': 'Micro-Man'},\n",
       " {'_id': '43048', 'title': 'The Piebald Hippogriff'},\n",
       " {'_id': '201',\n",
       "  'title': 'Flatland: A Romance of Many Dimensions (Illustrated)'},\n",
       " {'_id': '964', 'title': 'The Merry Adventures of Robin Hood'},\n",
       " {'_id': '5230', 'title': 'The Invisible Man'},\n",
       " {'_id': '50133', 'title': 'The Dunwich Horror'},\n",
       " {'_id': '21279', 'title': '2 B R 0 2 B'},\n",
       " {'_id': '32032', 'title': 'Second Variety'},\n",
       " {'_id': '3526', 'title': 'Five Weeks in a Balloon'},\n",
       " {'_id': '24450', 'title': 'Bones'},\n",
       " {'_id': '848', 'title': 'The Black Arrow'},\n",
       " {'_id': '32024', 'title': 'The Motor Girls on the Coast'},\n",
       " {'_id': '24517', 'title': 'Accidental Death'}]"
      ]
     },
     "execution_count": 28,
     "metadata": {},
     "output_type": "execute_result"
    }
   ],
   "source": [
    "list(collection.find({}, {'_id':1, 'title':1}))"
   ]
  },
  {
   "cell_type": "code",
   "execution_count": 16,
   "metadata": {},
   "outputs": [],
   "source": [
    "with open('/Users/mbarry/Documents/Coding/ds/metis/projects/gutenberg_recommender/src/visualization/flask_app/dict_with_lems.pk', 'rb') as read_file:\n",
    "    lems = pickle.load(read_file)\n",
    "        "
   ]
  },
  {
   "cell_type": "code",
   "execution_count": 17,
   "metadata": {},
   "outputs": [],
   "source": [
    "with open('/Users/mbarry/Documents/Coding/ds/metis/projects/gutenberg_recommender/src/models/doc_lsa.pk', 'rb') as read_file:\n",
    "    doc_lsa = pickle.load(read_file)"
   ]
  },
  {
   "cell_type": "code",
   "execution_count": 18,
   "metadata": {},
   "outputs": [
    {
     "data": {
      "text/plain": [
       "(78, 45)"
      ]
     },
     "execution_count": 18,
     "metadata": {},
     "output_type": "execute_result"
    }
   ],
   "source": [
    "doc_lsa.shape"
   ]
  },
  {
   "cell_type": "markdown",
   "metadata": {},
   "source": [
    "## Update Flask LSA pickle"
   ]
  },
  {
   "cell_type": "markdown",
   "metadata": {},
   "source": [
    "To udate the tfidf, lsa, and lsa_topic pickles in the flask app, run update_flask_pickles.\n",
    "Update_flash_pickles trains the tfidf on the spacy_lemmed_500000.pickle and saves it, while transforming the text. It then fits_transforms that with the truncatedSVD module, and saves the fit model and the transformed document topics. "
   ]
  },
  {
   "cell_type": "code",
   "execution_count": 35,
   "metadata": {},
   "outputs": [],
   "source": [
    "from get_model_pickles import update_flask_pickles"
   ]
  },
  {
   "cell_type": "code",
   "execution_count": 36,
   "metadata": {},
   "outputs": [],
   "source": [
    "update_flask_pickles()"
   ]
  },
  {
   "cell_type": "markdown",
   "metadata": {},
   "source": [
    "## Load One Book to Mongo, update pickles for flask."
   ]
  },
  {
   "cell_type": "code",
   "execution_count": 26,
   "metadata": {},
   "outputs": [],
   "source": [
    "def update_everything(book_num):\n",
    "    insert_one_book_to_mongo(book_num)\n",
    "    with open('../data/processed/spacy_lemmed_new_500000.pickle', \"rb\") as read_file:\n",
    "        lemmed_text = pickle.load(read_file)\n",
    "    book_for_lemming = book_cleaner(book_num)\n",
    "    spacy_lemmed_text = spacy_lemmer.spacy_lem_text(book_for_lemming)\n",
    "    lemmed_text.append(spacy_lemmed_text)\n",
    "    with open('../data/processed/spacy_lemmed_new_500000.pickle', \"wb\") as write_file:\n",
    "        pickle.dump(lemmed_text, write_file)\n",
    "   "
   ]
  },
  {
   "cell_type": "code",
   "execution_count": 27,
   "metadata": {},
   "outputs": [
    {
     "name": "stdout",
     "output_type": "stream",
     "text": [
      "hello\n",
      "Accidental Death\n",
      "{'_id': '24517', 'title': 'Accidental Death', 'author': 'Peter Baily', 'text': 'The most dangerous of weapons\\nis the one you don\\'t know is loaded.Illustrated by SchoenherrHE wind howled out of the northwest, blind with snow and barbed with ice crystals. All the way up the half-mile precipice it fingered and wrenched away at groaning ice-slabs. It screamed over the top, whirled snow in a dervish dance around the hollow there, piled snow into the long furrow plowed ruler-straight through streamlined hummocks of snow.The sun glinted on black rock glazed by ice, chasms and ridges and bridges of ice. It lit the snow slope to a frozen glare, penciled black shadow down the long furrow, and flashed at the furrow\\'s end on a thing of metal and plastics, an artifact thrown down in the dead wilderness.Nothing grew, nothing flew, nothing walked, nothing talked. But the thing in the hollow was stirring in stiff jerks like a snake with its back broken or a clockwork toy running down. When the movements stopped, there was a click and a strange sound began. Thin, scratchy, inaudible more than a yard away, weary but still cocky, there leaked from the shape in the hollow the sound of a human voice.\"I\\'ve tried my hands and arms and they seem to work,\" it began. \"I\\'ve wiggled my toes with entire success. It\\'s well on the cards that I\\'m all in one piece and not broken up at all, though I don\\'t see how it could happen. Right now I don\\'t feel like struggling up and finding out. I\\'m fine where I am. I\\'ll just lie here for a while and relax, and get some of the story on tape. This suit\\'s got a built-in recorder, I might as well use it. That way even if I\\'m not as well as I feel, I\\'ll leave a message. You probably know we\\'re back and wonder what went wrong.\"I suppose I\\'m in a state of shock. That\\'s why I can\\'t seem to get up. Who wouldn\\'t be shocked after luck like that?\"I\\'ve always been lucky, I guess. Luck got me a place in the Whale. Sure I\\'m a good astronomer but so are lots of other guys. If I were ten years older, it would have been an honor, being picked for the first long jump in the first starship ever. At my age it was luck.\"You\\'ll want to know if the ship worked. Well, she did. Went like a bomb. We got lined up between Earth and Mars, you\\'ll remember, and James pushed the button marked \\'Jump\\'. Took his finger off the button and there we were: Alpha Centauri. Two months later your time, one second later by us. We covered our whole survey assignment like that, smooth as a pint of old and mild which right now I could certainly use. Better yet would be a pint of hot black coffee with sugar in. Failing that, I could even go for a long drink of cold water. There was never anything wrong with the Whale till right at the end and even then I doubt if it was the ship itself that fouled things up.\"That was some survey assignment. We astronomers really lived. Wait till you see—but of course you won\\'t. I could weep when I think of those miles of lovely color film, all gone up in smoke.\"I\\'m shocked all right. I never said who I was. Matt Hennessy, from Farside Observatory, back of the Moon, just back from a proving flight cum astronomical survey in the starship Whale. Whoever you are who finds this tape, you\\'re made. Take it to any radio station or newspaper office. You\\'ll find you can name your price and don\\'t take any wooden nickels.\"Where had I got to? I\\'d told you how we happened to find Chang, hadn\\'t I? That\\'s what the natives called it. Walking, talking natives on a blue sky planet with 1.1 g gravity and a twenty per cent oxygen atmosphere at fifteen p.s.i. The odds against finding Chang on a six-sun survey on the first star jump ever must be up in the googols. We certainly were lucky.\"The Chang natives aren\\'t very technical—haven\\'t got space travel for instance. They\\'re good astronomers, though. We were able to show them our sun, in their telescopes. In their way, they\\'re a highly civilized people. Look more like cats than people, but they\\'re people all right. If you doubt it, chew these facts over.\"One, they learned our language in four weeks. When I say they, I mean a ten-man team of them.\"Two, they brew a near-beer that\\'s a lot nearer than the canned stuff we had aboard the Whale.\"Three, they\\'ve a great sense of humor. Ran rather to silly practical jokes, but still. Can\\'t say I care for that hot-foot and belly-laugh stuff myself, but tastes differ.\"Four, the ten-man language team also learned chess and table tennis.\"But why go on? People who talk English, drink beer, like jokes and beat me at chess or table-tennis are people for my money, even if they look like tigers in trousers.\"It was funny the way they won all the time at table tennis. They certainly weren\\'t so hot at it. Maybe that ten per cent extra gravity put us off our strokes. As for chess, Svendlov was our champion. He won sometimes. The rest of us seemed to lose whichever Chingsi we played. There again it wasn\\'t so much that they were good. How could they be, in the time? It was more that we all seemed to make silly mistakes when we played them and that\\'s fatal in chess. Of course it\\'s a screwy situation, playing chess with something that grows its own fur coat, has yellow eyes an inch and a half long and long white whiskers. Could you have kept your mind on the game?\"And don\\'t think I fell victim to their feline charm. The children were pets, but you didn\\'t feel like patting the adults on their big grinning heads. Personally I didn\\'t like the one I knew best. He was called—well, we called him Charley, and he was the ethnologist, ambassador, contact man, or whatever you like to call him, who came back with us. Why I disliked him was because he was always trying to get the edge on you. All the time he had to be top. Great sense of humor, of course. I nearly broke my neck on that butter-slide he fixed up in the metal alleyway to the Whale\\'s engine room. Charley laughed fit to bust, everyone laughed, I even laughed myself though doing it hurt me more than the tumble had. Yes, life and soul of the party, old Charley ...\"My last sight of the Minnow was a cabin full of dead and dying men, the sweetish stink of burned flesh and the choking reek of scorching insulation, the boat jolting and shuddering and beginning to break up, and in the middle of the flames, still unhurt, was Charley. He was laughing ...\"My God, it\\'s dark out here. Wonder how high I am. Must be all of fifty miles, and doing eight hundred miles an hour at least. I\\'ll be doing more than that when I land. What\\'s final velocity for a fifty-mile fall? Same as a fifty thousand mile fall, I suppose; same as escape; twenty-four thousand miles an hour. I\\'ll make a mess ...\"That\\'s better. Why didn\\'t I close my eyes before? Those star streaks made me dizzy. I\\'ll make a nice shooting star when I hit air. Come to think of it, I must be deep in air now. Let\\'s take a look.\"It\\'s getting lighter. Look at those peaks down there! Like great knives. I don\\'t seem to be falling as fast as I expected though. Almost seem to be floating. Let\\'s switch on the radio and tell the world hello. Hello, earth ... hello, again ... and good-by ...\"Sorry about that. I passed out. I don\\'t know what I said, if anything, and the suit recorder has no playback or eraser. What must have happened is that the suit ran out of oxygen, and I lost consciousness due to anoxia. I dreamed I switched on the radio, but I actually switched on the emergency tank, thank the Lord, and that brought me round.\"Come to think of it, why not crack the suit and breath fresh air instead of bottled?\"No. I\\'d have to get up to do that. I think I\\'ll just lie here a little bit longer and get properly rested up before I try anything big like standing up.\"I was telling about the return journey, wasn\\'t I? The long jump back home, which should have dumped us between the orbits of Earth and Mars. Instead of which, when James took his finger off the button, the mass-detector showed nothing except the noise-level of the universe.\"We were out in that no place for a day. We astronomers had to establish our exact position relative to the solar system. The crew had to find out exactly what went wrong. The physicists had to make mystic passes in front of meters and mutter about residual folds in stress-free space. Our task was easy, because we were about half a light-year from the sun. The crew\\'s job was also easy: they found what went wrong in less than half an hour.\"It still seems incredible. To program the ship for a star-jump, you merely told it where you were and where you wanted to go. In practical terms, that entailed first a series of exact measurements which had to be translated into the somewhat abstruse co-ordinate system we used based on the topological order of mass-points in the galaxy. Then you cut a tape on the computer and hit the button. Nothing was wrong with the computer. Nothing was wrong with the engines. We\\'d hit the right button and we\\'d gone to the place we\\'d aimed for. All we\\'d done was aim for the wrong place. It hurts me to tell you this and I\\'m just attached personnel with no space-flight tradition. In practical terms, one highly trained crew member had punched a wrong pattern of holes on the tape. Another equally skilled had failed to notice this when reading back. A childish error, highly improbable; twice repeated, thus squaring the improbability. Incredible, but that\\'s what happened.\"Anyway, we took good care with the next lot of measurements. That\\'s why we were out there so long. They were cross-checked about five times. I got sick so I climbed into a spacesuit and went outside and took some photographs of the Sun which I hoped would help to determine hydrogen density in the outer regions. When I got back everything was ready. We disposed ourselves about the control room and relaxed for all we were worth. We were all praying that this time nothing would go wrong, and all looking forward to seeing Earth again after four months subjective time away, except for Charley, who was still chuckling and shaking his head, and Captain James who was glaring at Charley and obviously wishing human dignity permitted him to tear Charley limb from limb. Then James pressed the button.\"Everything twanged like a bowstring. I felt myself turned inside out, passed through a small sieve, and poured back into shape. The entire bow wall-screen was full of Earth. Something was wrong all right, and this time it was much, much worse. We\\'d come out of the jump about two hundred miles above the Pacific, pointed straight down, traveling at a relative speed of about two thousand miles an hour.\"It was a fantastic situation. Here was the Whale, the most powerful ship ever built, which could cover fifty light-years in a subjective time of one second, and it was helpless. For, as of course you know, the star-drive couldn\\'t be used again for at least two hours.\"The Whale also had ion rockets of course, the standard deuterium-fusion thing with direct conversion. As again you know, this is good for interplanetary flight because you can run it continuously and it has extremely high exhaust velocity. But in our situation it was no good because it has rather a low thrust. It would have taken more time than we had to deflect us enough to avoid a smash. We had five minutes to abandon ship.\"James got us all into the Minnow at a dead run. There was no time to take anything at all except the clothes we stood in. The Minnow was meant for short heavy hops to planets or asteroids. In addition to the ion drive it had emergency atomic rockets, using steam for reaction mass. We thanked God for that when Cazamian canceled our downwards velocity with them in a few seconds. We curved away up over China and from about fifty miles high we saw the Whale hit the Pacific. Six hundred tons of mass at well over two thousand miles an hour make an almighty splash. By now you\\'ll have divers down, but I doubt they\\'ll salvage much you can use.\"I wonder why James went down with the ship, as the saying is? Not that it made any difference. It must have broken his heart to know that his lovely ship was getting the chopper. Or did he suspect another human error?\"We didn\\'t have time to think about that, or even to get the radio working. The steam rockets blew up. Poor Cazamian was burnt to a crisp. Only thing that saved me was the spacesuit I was still wearing. I snapped the face plate down because the cabin was filling with fumes. I saw Charley coming out of the toilet—that\\'s how he\\'d escaped—and I saw him beginning to laugh. Then the port side collapsed and I fell out.\"I saw the launch spinning away, glowing red against a purplish black sky. I tumbled head over heels towards the huge curved shield of earth fifty miles below. I shut my eyes and that\\'s about all I remember. I don\\'t see how any of us could have survived. I think we\\'re all dead.\"I\\'ll have to get up and crack this suit and let some air in. But I can\\'t. I fell fifty miles without a parachute. I\\'m dead so I can\\'t stand up.\"There was silence for a while except for the vicious howl of the wind. Then snow began to shift on the ledge. A man crawled stiffly out and came shakily to his feet. He moved slowly around for some time. After about two hours he returned to the hollow, squatted down and switched on the recorder. The voice began again, considerably wearier.\"Hello there. I\\'m in the bleakest wilderness I\\'ve ever seen. This place makes the moon look cozy. There\\'s precipice around me every way but one and that\\'s up. So it\\'s up I\\'ll have to go till I find a way to go down. I\\'ve been chewing snow to quench my thirst but I could eat a horse. I picked up a short-wave broadcast on my suit but couldn\\'t understand a word. Not English, not French, and there I stick. Listened to it for fifteen minutes just to hear a human voice again. I haven\\'t much hope of reaching anyone with my five milliwatt suit transmitter but I\\'ll keep trying.\"Just before I start the climb there are two things I want to get on tape. The first is how I got here. I\\'ve remembered something from my military training, when I did some parachute jumps. Terminal velocity for a human body falling through air is about one hundred twenty m.p.h. Falling fifty miles is no worse than falling five hundred feet. You\\'d be lucky to live through a five hundred foot fall, true, but I\\'ve been lucky. The suit is bulky but light and probably slowed my fall. I hit a sixty mile an hour updraft this side of the mountain, skidded downhill through about half a mile of snow and fetched up in a drift. The suit is part worn but still operational. I\\'m fine.\"The second thing I want to say is about the Chingsi, and here it is: watch out for them. Those jokers are dangerous. I\\'m not telling how because I\\'ve got a scientific reputation to watch. You\\'ll have to figure it out for yourselves. Here are the clues:(1) The Chingsi talk and laugh but after all they aren\\'t human. On an alien world a hundred light-years away, why shouldn\\'t alien talents develop? A talent that\\'s so uncertain and rudimentary here that most people don\\'t believe it, might be highly developed out there.(2) The Whale expedition did fine till it found Chang. Then it hit a seam of bad luck. Real stinking bad luck that went on and on till it looks fishy. We lost the ship, we lost the launch, all but one of us lost our lives. We couldn\\'t even win a game of ping-pong.\"So what is luck, good or bad? Scientifically speaking, future chance events are by definition chance. They can turn out favorable or not. When a preponderance of chance events has occurred unfavorably, you\\'ve got bad luck. It\\'s a fancy name for a lot of chance results that didn\\'t go your way. But the gambler defines it differently. For him, luck refers to the future, and you\\'ve got bad luck when future chance events won\\'t go your way. Scientific investigations into this have been inconclusive, but everyone knows that some people are lucky and others aren\\'t. All we\\'ve got are hints and glimmers, the fumbling touch of a rudimentary talent. There\\'s the evil eye legend and the Jonah, bad luck bringers. Superstition? Maybe; but ask the insurance companies about accident prones. What\\'s in a name? Call a man unlucky and you\\'re superstitious. Call him accident prone and that\\'s sound business sense. I\\'ve said enough.\"All the same, search the space-flight records, talk to the actuaries. When a ship is working perfectly and is operated by a hand-picked crew of highly trained men in perfect condition, how often is it wrecked by a series of silly errors happening one after another in defiance of probability?\"I\\'ll sign off with two thoughts, one depressing and one cheering. A single Chingsi wrecked our ship and our launch. What could a whole planetful of them do?\"On the other hand, a talent that manipulates chance events is bound to be chancy. No matter how highly developed it can\\'t be surefire. The proof is that I\\'ve survived to tell the tale.\"At twenty below zero and fifty miles an hour the wind ravaged the mountain. Peering through his polarized vizor at the white waste and the snow-filled air howling over it, sliding and stumbling with every step on a slope that got gradually steeper and seemed to go on forever, Matt Hennessy began to inch his way up the north face of Mount Everest.THE END'}\n",
      "{'_id': '24517', 'title': 'Accidental Death', 'author': 'Peter Baily', 'text': 'The most dangerous of weapons\\nis the one you don\\'t know is loaded.Illustrated by SchoenherrHE wind howled out of the northwest, blind with snow and barbed with ice crystals. All the way up the half-mile precipice it fingered and wrenched away at groaning ice-slabs. It screamed over the top, whirled snow in a dervish dance around the hollow there, piled snow into the long furrow plowed ruler-straight through streamlined hummocks of snow.The sun glinted on black rock glazed by ice, chasms and ridges and bridges of ice. It lit the snow slope to a frozen glare, penciled black shadow down the long furrow, and flashed at the furrow\\'s end on a thing of metal and plastics, an artifact thrown down in the dead wilderness.Nothing grew, nothing flew, nothing walked, nothing talked. But the thing in the hollow was stirring in stiff jerks like a snake with its back broken or a clockwork toy running down. When the movements stopped, there was a click and a strange sound began. Thin, scratchy, inaudible more than a yard away, weary but still cocky, there leaked from the shape in the hollow the sound of a human voice.\"I\\'ve tried my hands and arms and they seem to work,\" it began. \"I\\'ve wiggled my toes with entire success. It\\'s well on the cards that I\\'m all in one piece and not broken up at all, though I don\\'t see how it could happen. Right now I don\\'t feel like struggling up and finding out. I\\'m fine where I am. I\\'ll just lie here for a while and relax, and get some of the story on tape. This suit\\'s got a built-in recorder, I might as well use it. That way even if I\\'m not as well as I feel, I\\'ll leave a message. You probably know we\\'re back and wonder what went wrong.\"I suppose I\\'m in a state of shock. That\\'s why I can\\'t seem to get up. Who wouldn\\'t be shocked after luck like that?\"I\\'ve always been lucky, I guess. Luck got me a place in the Whale. Sure I\\'m a good astronomer but so are lots of other guys. If I were ten years older, it would have been an honor, being picked for the first long jump in the first starship ever. At my age it was luck.\"You\\'ll want to know if the ship worked. Well, she did. Went like a bomb. We got lined up between Earth and Mars, you\\'ll remember, and James pushed the button marked \\'Jump\\'. Took his finger off the button and there we were: Alpha Centauri. Two months later your time, one second later by us. We covered our whole survey assignment like that, smooth as a pint of old and mild which right now I could certainly use. Better yet would be a pint of hot black coffee with sugar in. Failing that, I could even go for a long drink of cold water. There was never anything wrong with the Whale till right at the end and even then I doubt if it was the ship itself that fouled things up.\"That was some survey assignment. We astronomers really lived. Wait till you see—but of course you won\\'t. I could weep when I think of those miles of lovely color film, all gone up in smoke.\"I\\'m shocked all right. I never said who I was. Matt Hennessy, from Farside Observatory, back of the Moon, just back from a proving flight cum astronomical survey in the starship Whale. Whoever you are who finds this tape, you\\'re made. Take it to any radio station or newspaper office. You\\'ll find you can name your price and don\\'t take any wooden nickels.\"Where had I got to? I\\'d told you how we happened to find Chang, hadn\\'t I? That\\'s what the natives called it. Walking, talking natives on a blue sky planet with 1.1 g gravity and a twenty per cent oxygen atmosphere at fifteen p.s.i. The odds against finding Chang on a six-sun survey on the first star jump ever must be up in the googols. We certainly were lucky.\"The Chang natives aren\\'t very technical—haven\\'t got space travel for instance. They\\'re good astronomers, though. We were able to show them our sun, in their telescopes. In their way, they\\'re a highly civilized people. Look more like cats than people, but they\\'re people all right. If you doubt it, chew these facts over.\"One, they learned our language in four weeks. When I say they, I mean a ten-man team of them.\"Two, they brew a near-beer that\\'s a lot nearer than the canned stuff we had aboard the Whale.\"Three, they\\'ve a great sense of humor. Ran rather to silly practical jokes, but still. Can\\'t say I care for that hot-foot and belly-laugh stuff myself, but tastes differ.\"Four, the ten-man language team also learned chess and table tennis.\"But why go on? People who talk English, drink beer, like jokes and beat me at chess or table-tennis are people for my money, even if they look like tigers in trousers.\"It was funny the way they won all the time at table tennis. They certainly weren\\'t so hot at it. Maybe that ten per cent extra gravity put us off our strokes. As for chess, Svendlov was our champion. He won sometimes. The rest of us seemed to lose whichever Chingsi we played. There again it wasn\\'t so much that they were good. How could they be, in the time? It was more that we all seemed to make silly mistakes when we played them and that\\'s fatal in chess. Of course it\\'s a screwy situation, playing chess with something that grows its own fur coat, has yellow eyes an inch and a half long and long white whiskers. Could you have kept your mind on the game?\"And don\\'t think I fell victim to their feline charm. The children were pets, but you didn\\'t feel like patting the adults on their big grinning heads. Personally I didn\\'t like the one I knew best. He was called—well, we called him Charley, and he was the ethnologist, ambassador, contact man, or whatever you like to call him, who came back with us. Why I disliked him was because he was always trying to get the edge on you. All the time he had to be top. Great sense of humor, of course. I nearly broke my neck on that butter-slide he fixed up in the metal alleyway to the Whale\\'s engine room. Charley laughed fit to bust, everyone laughed, I even laughed myself though doing it hurt me more than the tumble had. Yes, life and soul of the party, old Charley ...\"My last sight of the Minnow was a cabin full of dead and dying men, the sweetish stink of burned flesh and the choking reek of scorching insulation, the boat jolting and shuddering and beginning to break up, and in the middle of the flames, still unhurt, was Charley. He was laughing ...\"My God, it\\'s dark out here. Wonder how high I am. Must be all of fifty miles, and doing eight hundred miles an hour at least. I\\'ll be doing more than that when I land. What\\'s final velocity for a fifty-mile fall? Same as a fifty thousand mile fall, I suppose; same as escape; twenty-four thousand miles an hour. I\\'ll make a mess ...\"That\\'s better. Why didn\\'t I close my eyes before? Those star streaks made me dizzy. I\\'ll make a nice shooting star when I hit air. Come to think of it, I must be deep in air now. Let\\'s take a look.\"It\\'s getting lighter. Look at those peaks down there! Like great knives. I don\\'t seem to be falling as fast as I expected though. Almost seem to be floating. Let\\'s switch on the radio and tell the world hello. Hello, earth ... hello, again ... and good-by ...\"Sorry about that. I passed out. I don\\'t know what I said, if anything, and the suit recorder has no playback or eraser. What must have happened is that the suit ran out of oxygen, and I lost consciousness due to anoxia. I dreamed I switched on the radio, but I actually switched on the emergency tank, thank the Lord, and that brought me round.\"Come to think of it, why not crack the suit and breath fresh air instead of bottled?\"No. I\\'d have to get up to do that. I think I\\'ll just lie here a little bit longer and get properly rested up before I try anything big like standing up.\"I was telling about the return journey, wasn\\'t I? The long jump back home, which should have dumped us between the orbits of Earth and Mars. Instead of which, when James took his finger off the button, the mass-detector showed nothing except the noise-level of the universe.\"We were out in that no place for a day. We astronomers had to establish our exact position relative to the solar system. The crew had to find out exactly what went wrong. The physicists had to make mystic passes in front of meters and mutter about residual folds in stress-free space. Our task was easy, because we were about half a light-year from the sun. The crew\\'s job was also easy: they found what went wrong in less than half an hour.\"It still seems incredible. To program the ship for a star-jump, you merely told it where you were and where you wanted to go. In practical terms, that entailed first a series of exact measurements which had to be translated into the somewhat abstruse co-ordinate system we used based on the topological order of mass-points in the galaxy. Then you cut a tape on the computer and hit the button. Nothing was wrong with the computer. Nothing was wrong with the engines. We\\'d hit the right button and we\\'d gone to the place we\\'d aimed for. All we\\'d done was aim for the wrong place. It hurts me to tell you this and I\\'m just attached personnel with no space-flight tradition. In practical terms, one highly trained crew member had punched a wrong pattern of holes on the tape. Another equally skilled had failed to notice this when reading back. A childish error, highly improbable; twice repeated, thus squaring the improbability. Incredible, but that\\'s what happened.\"Anyway, we took good care with the next lot of measurements. That\\'s why we were out there so long. They were cross-checked about five times. I got sick so I climbed into a spacesuit and went outside and took some photographs of the Sun which I hoped would help to determine hydrogen density in the outer regions. When I got back everything was ready. We disposed ourselves about the control room and relaxed for all we were worth. We were all praying that this time nothing would go wrong, and all looking forward to seeing Earth again after four months subjective time away, except for Charley, who was still chuckling and shaking his head, and Captain James who was glaring at Charley and obviously wishing human dignity permitted him to tear Charley limb from limb. Then James pressed the button.\"Everything twanged like a bowstring. I felt myself turned inside out, passed through a small sieve, and poured back into shape. The entire bow wall-screen was full of Earth. Something was wrong all right, and this time it was much, much worse. We\\'d come out of the jump about two hundred miles above the Pacific, pointed straight down, traveling at a relative speed of about two thousand miles an hour.\"It was a fantastic situation. Here was the Whale, the most powerful ship ever built, which could cover fifty light-years in a subjective time of one second, and it was helpless. For, as of course you know, the star-drive couldn\\'t be used again for at least two hours.\"The Whale also had ion rockets of course, the standard deuterium-fusion thing with direct conversion. As again you know, this is good for interplanetary flight because you can run it continuously and it has extremely high exhaust velocity. But in our situation it was no good because it has rather a low thrust. It would have taken more time than we had to deflect us enough to avoid a smash. We had five minutes to abandon ship.\"James got us all into the Minnow at a dead run. There was no time to take anything at all except the clothes we stood in. The Minnow was meant for short heavy hops to planets or asteroids. In addition to the ion drive it had emergency atomic rockets, using steam for reaction mass. We thanked God for that when Cazamian canceled our downwards velocity with them in a few seconds. We curved away up over China and from about fifty miles high we saw the Whale hit the Pacific. Six hundred tons of mass at well over two thousand miles an hour make an almighty splash. By now you\\'ll have divers down, but I doubt they\\'ll salvage much you can use.\"I wonder why James went down with the ship, as the saying is? Not that it made any difference. It must have broken his heart to know that his lovely ship was getting the chopper. Or did he suspect another human error?\"We didn\\'t have time to think about that, or even to get the radio working. The steam rockets blew up. Poor Cazamian was burnt to a crisp. Only thing that saved me was the spacesuit I was still wearing. I snapped the face plate down because the cabin was filling with fumes. I saw Charley coming out of the toilet—that\\'s how he\\'d escaped—and I saw him beginning to laugh. Then the port side collapsed and I fell out.\"I saw the launch spinning away, glowing red against a purplish black sky. I tumbled head over heels towards the huge curved shield of earth fifty miles below. I shut my eyes and that\\'s about all I remember. I don\\'t see how any of us could have survived. I think we\\'re all dead.\"I\\'ll have to get up and crack this suit and let some air in. But I can\\'t. I fell fifty miles without a parachute. I\\'m dead so I can\\'t stand up.\"There was silence for a while except for the vicious howl of the wind. Then snow began to shift on the ledge. A man crawled stiffly out and came shakily to his feet. He moved slowly around for some time. After about two hours he returned to the hollow, squatted down and switched on the recorder. The voice began again, considerably wearier.\"Hello there. I\\'m in the bleakest wilderness I\\'ve ever seen. This place makes the moon look cozy. There\\'s precipice around me every way but one and that\\'s up. So it\\'s up I\\'ll have to go till I find a way to go down. I\\'ve been chewing snow to quench my thirst but I could eat a horse. I picked up a short-wave broadcast on my suit but couldn\\'t understand a word. Not English, not French, and there I stick. Listened to it for fifteen minutes just to hear a human voice again. I haven\\'t much hope of reaching anyone with my five milliwatt suit transmitter but I\\'ll keep trying.\"Just before I start the climb there are two things I want to get on tape. The first is how I got here. I\\'ve remembered something from my military training, when I did some parachute jumps. Terminal velocity for a human body falling through air is about one hundred twenty m.p.h. Falling fifty miles is no worse than falling five hundred feet. You\\'d be lucky to live through a five hundred foot fall, true, but I\\'ve been lucky. The suit is bulky but light and probably slowed my fall. I hit a sixty mile an hour updraft this side of the mountain, skidded downhill through about half a mile of snow and fetched up in a drift. The suit is part worn but still operational. I\\'m fine.\"The second thing I want to say is about the Chingsi, and here it is: watch out for them. Those jokers are dangerous. I\\'m not telling how because I\\'ve got a scientific reputation to watch. You\\'ll have to figure it out for yourselves. Here are the clues:(1) The Chingsi talk and laugh but after all they aren\\'t human. On an alien world a hundred light-years away, why shouldn\\'t alien talents develop? A talent that\\'s so uncertain and rudimentary here that most people don\\'t believe it, might be highly developed out there.(2) The Whale expedition did fine till it found Chang. Then it hit a seam of bad luck. Real stinking bad luck that went on and on till it looks fishy. We lost the ship, we lost the launch, all but one of us lost our lives. We couldn\\'t even win a game of ping-pong.\"So what is luck, good or bad? Scientifically speaking, future chance events are by definition chance. They can turn out favorable or not. When a preponderance of chance events has occurred unfavorably, you\\'ve got bad luck. It\\'s a fancy name for a lot of chance results that didn\\'t go your way. But the gambler defines it differently. For him, luck refers to the future, and you\\'ve got bad luck when future chance events won\\'t go your way. Scientific investigations into this have been inconclusive, but everyone knows that some people are lucky and others aren\\'t. All we\\'ve got are hints and glimmers, the fumbling touch of a rudimentary talent. There\\'s the evil eye legend and the Jonah, bad luck bringers. Superstition? Maybe; but ask the insurance companies about accident prones. What\\'s in a name? Call a man unlucky and you\\'re superstitious. Call him accident prone and that\\'s sound business sense. I\\'ve said enough.\"All the same, search the space-flight records, talk to the actuaries. When a ship is working perfectly and is operated by a hand-picked crew of highly trained men in perfect condition, how often is it wrecked by a series of silly errors happening one after another in defiance of probability?\"I\\'ll sign off with two thoughts, one depressing and one cheering. A single Chingsi wrecked our ship and our launch. What could a whole planetful of them do?\"On the other hand, a talent that manipulates chance events is bound to be chancy. No matter how highly developed it can\\'t be surefire. The proof is that I\\'ve survived to tell the tale.\"At twenty below zero and fifty miles an hour the wind ravaged the mountain. Peering through his polarized vizor at the white waste and the snow-filled air howling over it, sliding and stumbling with every step on a slope that got gradually steeper and seemed to go on forever, Matt Hennessy began to inch his way up the north face of Mount Everest.THE END'}\n",
      "Accidental Death 17232\n"
     ]
    },
    {
     "name": "stdout",
     "output_type": "stream",
     "text": [
      "15233\n"
     ]
    }
   ],
   "source": [
    "update_everything(24517)"
   ]
  },
  {
   "cell_type": "code",
   "execution_count": null,
   "metadata": {},
   "outputs": [],
   "source": []
  }
 ],
 "metadata": {
  "kernelspec": {
   "display_name": "Python 3",
   "language": "python",
   "name": "python3"
  },
  "language_info": {
   "codemirror_mode": {
    "name": "ipython",
    "version": 3
   },
   "file_extension": ".py",
   "mimetype": "text/x-python",
   "name": "python",
   "nbconvert_exporter": "python",
   "pygments_lexer": "ipython3",
   "version": "3.6.7"
  },
  "toc": {
   "base_numbering": 1,
   "nav_menu": {},
   "number_sections": true,
   "sideBar": true,
   "skip_h1_title": false,
   "title_cell": "Table of Contents",
   "title_sidebar": "Contents",
   "toc_cell": false,
   "toc_position": {},
   "toc_section_display": true,
   "toc_window_display": false
  },
  "varInspector": {
   "cols": {
    "lenName": 16,
    "lenType": 16,
    "lenVar": 40
   },
   "kernels_config": {
    "python": {
     "delete_cmd_postfix": "",
     "delete_cmd_prefix": "del ",
     "library": "var_list.py",
     "varRefreshCmd": "print(var_dic_list())"
    },
    "r": {
     "delete_cmd_postfix": ") ",
     "delete_cmd_prefix": "rm(",
     "library": "var_list.r",
     "varRefreshCmd": "cat(var_dic_list()) "
    }
   },
   "types_to_exclude": [
    "module",
    "function",
    "builtin_function_or_method",
    "instance",
    "_Feature"
   ],
   "window_display": false
  }
 },
 "nbformat": 4,
 "nbformat_minor": 2
}
